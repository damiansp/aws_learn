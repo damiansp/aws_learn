{
 "cells": [
  {
   "cell_type": "code",
   "execution_count": null,
   "id": "pressing-composition",
   "metadata": {},
   "outputs": [],
   "source": [
    "# please ignore warning messages during the installation\n",
    "!pip install --disable-pip-version-check -q sagemaker==2.35.0\n",
    "!conda install -q -y pytorch==1.6.0 -c pytorch\n",
    "!pip install --disable-pip-version-check -q transformers==3.5.1"
   ]
  },
  {
   "cell_type": "code",
   "execution_count": null,
   "id": "editorial-catholic",
   "metadata": {},
   "outputs": [],
   "source": [
    "import importlib\n",
    "import sys\n",
    "import time\n",
    "\n",
    "import boto3\n",
    "from IPython.core.display import display, HTML\n",
    "import pandas as pd\n",
    "import sagemaker\n",
    "from sagemaker.feature_store.feature_definition import (\n",
    "    FeatureDefinition, FeatureTypeEnum)\n",
    "from sagemaker.feature_store.feature_group import FeatureGroup\n",
    "from sagemaker.processing import ProcessingInput, ProcessingOutput\n",
    "from sagemaker.sklearn.processing import SKLearnProcessor\n",
    "import seaborn as sns\n",
    "\n",
    "sys.path.append('src/')\n",
    "import prepare_data"
   ]
  },
  {
   "cell_type": "code",
   "execution_count": null,
   "id": "legislative-slovenia",
   "metadata": {},
   "outputs": [],
   "source": [
    "sess = sagemaker.Session()\n",
    "role = sagemaker.get_execution_role()\n",
    "bucket = sess.default_bucket()\n",
    "region = boto3.Session().region_name"
   ]
  },
  {
   "cell_type": "markdown",
   "id": "early-davis",
   "metadata": {},
   "source": [
    "# 1. Configure the SageMaker Feature Store"
   ]
  },
  {
   "cell_type": "code",
   "execution_count": null,
   "id": "warming-advantage",
   "metadata": {},
   "outputs": [],
   "source": [
    "raw_input_data_s3_uri = 's3://dlai-practical-data-science/data/raw/'\n",
    "print(raw_input_data_s3_uri)"
   ]
  },
  {
   "cell_type": "code",
   "execution_count": null,
   "id": "intended-flooring",
   "metadata": {},
   "outputs": [],
   "source": [
    "!aws s3 ls $raw_input_data_s3_uri"
   ]
  },
  {
   "cell_type": "code",
   "execution_count": null,
   "id": "pregnant-enterprise",
   "metadata": {},
   "outputs": [],
   "source": [
    "timestamp = int(time.time())\n",
    "feature_group_name = f'reviews-feature-group-{timestamp}'\n",
    "feature_store_offline_prefix = f'reviews-feature-store-{timestamp}''\n",
    "print(f'Feature group name: {feature_group_name}')\n",
    "print(\n",
    "    f'Feature store offline prefix in S3: {feature_store_offline_prefix}'"
   ]
  },
  {
   "cell_type": "code",
   "execution_count": null,
   "id": "revised-soldier",
   "metadata": {},
   "outputs": [],
   "source": [
    "feature_definitions= [\n",
    "    # unique ID of the review\n",
    "    FeatureDefinition(feature_name='review_id', \n",
    "                      feature_type=FeatureTypeEnum.STRING), \n",
    "    # ingestion timestamp\n",
    "    FeatureDefinition(feature_name='date', \n",
    "                      feature_type=FeatureTypeEnum.STRING),\n",
    "    # sentiment: -1 (negative), 0 (neutral) or 1 (positive). \n",
    "    # It will be found the Rating values (1, 2, 3, 4, 5)\n",
    "    FeatureDefinition(feature_name='sentiment', \n",
    "                      feature_type=FeatureTypeEnum.STRING), \n",
    "    # label ID of the target class (sentiment)\n",
    "    FeatureDefinition(feature_name='label_id', \n",
    "                      feature_type=FeatureTypeEnum.STRING),\n",
    "    # reviews encoded with the BERT tokenizer\n",
    "    FeatureDefinition(feature_name='input_ids', \n",
    "                      feature_type=FeatureTypeEnum.STRING),\n",
    "    # original Review Text\n",
    "    FeatureDefinition(feature_name='review_body', \n",
    "                      feature_type=FeatureTypeEnum.STRING),\n",
    "    # train/validation/test label\n",
    "    FeatureDefinition(feature_name='split_type', \n",
    "                      feature_type=FeatureTypeEnum.STRING)]"
   ]
  },
  {
   "cell_type": "code",
   "execution_count": null,
   "id": "tropical-commissioner",
   "metadata": {},
   "outputs": [],
   "source": [
    "feature_group = FeatureGroup(\n",
    "    name=feature_group_name,\n",
    "    feature_definitions=feature_definitions,\n",
    "    sagemaker_session=sess)\n",
    "print(feature_group)"
   ]
  },
  {
   "cell_type": "markdown",
   "id": "assured-explanation",
   "metadata": {},
   "source": [
    "# 2. Transform the dataset"
   ]
  },
  {
   "cell_type": "code",
   "execution_count": null,
   "id": "spanish-discipline",
   "metadata": {},
   "outputs": [],
   "source": [
    "processing_instance_type = 'ml.c5.xlarge'\n",
    "processing_instance_count = 1\n",
    "train_split_percentage = 0.90\n",
    "validation_split_percentage = 0.05\n",
    "test_split_percentage = 0.05\n",
    "balance_dataset = True\n",
    "max_seq_length = 128"
   ]
  },
  {
   "cell_type": "code",
   "execution_count": null,
   "id": "downtown-machine",
   "metadata": {},
   "outputs": [],
   "source": [
    "processor = SKLearnProcessor(\n",
    "    framework_version='0.23-1',\n",
    "    role=role,\n",
    "    instance_type=processing_instance_type,\n",
    "    instance_count=processing_instance_count,\n",
    "    env={'AWS_DEFAULT_REGION': region},                             \n",
    "    max_runtime_in_seconds=7200)"
   ]
  },
  {
   "cell_type": "code",
   "execution_count": null,
   "id": "tough-regression",
   "metadata": {},
   "outputs": [],
   "source": [
    "# reload the module if it has been previously loaded \n",
    "if 'prepare_data' in sys.modules:\n",
    "    importlib.reload(prepare_data)\n",
    "\n",
    "input_ids = prepare_data.convert_to_bert_input_ids(\n",
    "    \"this product is great!\", max_seq_length)\n",
    "updated_correctly = False\n",
    "if len(input_ids) != max_seq_length:\n",
    "    print('#' * 40)\n",
    "    print('Please check that the function \"convert_to_bert_input_ids\" in '\n",
    "          'the file src/prepare_data.py is complete.')\n",
    "    print('#' * 40)\n",
    "    raise Exception(\n",
    "        'Please check that the function \"convert_to_bert_input_ids\" in '\n",
    "        'the file src/prepare_data.py is complete.')\n",
    "else:\n",
    "    print('##################')\n",
    "    print('Updated correctly!')\n",
    "    print('##################')\n",
    "    updated_correctly = True"
   ]
  },
  {
   "cell_type": "code",
   "execution_count": null,
   "id": "prime-prime",
   "metadata": {},
   "outputs": [],
   "source": [
    "input_ids = prepare_data.convert_to_bert_input_ids(\n",
    "    \"this product is great!\", max_seq_length)\n",
    "print(input_ids)\n",
    "print(f'Length of the sequence: {len(input_ids)}')"
   ]
  },
  {
   "cell_type": "code",
   "execution_count": null,
   "id": "worse-subscriber",
   "metadata": {},
   "outputs": [],
   "source": [
    "if (updated_correctly):\n",
    "    processor.run(\n",
    "        code='src/prepare_data.py',\n",
    "        inputs=[ProcessingInput(\n",
    "            source=raw_input_data_s3_uri,\n",
    "            destination='/opt/ml/processing/input/data/',\n",
    "            s3_data_distribution_type='ShardedByS3Key')],\n",
    "        outputs=[\n",
    "            ProcessingOutput(\n",
    "                output_name='sentiment-train',\n",
    "                source='/opt/ml/processing/output/sentiment/train',\n",
    "                s3_upload_mode='EndOfJob'),\n",
    "            ProcessingOutput(\n",
    "                output_name='sentiment-validation',\n",
    "                source='/opt/ml/processing/output/sentiment/validation',\n",
    "                s3_upload_mode='EndOfJob'),\n",
    "            ProcessingOutput(\n",
    "                output_name='sentiment-test',\n",
    "                source='/opt/ml/processing/output/sentiment/test',\n",
    "                s3_upload_mode='EndOfJob')],\n",
    "        arguments=[\n",
    "            '--train-split-percentage', str(train_split_percentage),\n",
    "            '--validation-split-percentage', \n",
    "            str(validation_split_percentage),\n",
    "            '--test-split-percentage', str(test_split_percentage),\n",
    "            '--balance-dataset', str(balance_dataset),\n",
    "            '--max-seq-length', str(max_seq_length),                         \n",
    "            '--feature-store-offline-prefix', \n",
    "            str(feature_store_offline_prefix),\n",
    "            '--feature-group-name', str(feature_group_name)],\n",
    "        logs=True,\n",
    "        wait=False)\n",
    "else:\n",
    "    print('#######################################')\n",
    "    print('Please update the code correctly above.')\n",
    "    print('#######################################')    "
   ]
  },
  {
   "cell_type": "code",
   "execution_count": null,
   "id": "overall-customer",
   "metadata": {},
   "outputs": [],
   "source": [
    "scikit_processing_job_name = (\n",
    "    processor.jobs[-1].describe()['ProcessingJobName'])\n",
    "print('Processing job name: {}'.format(scikit_processing_job_name))"
   ]
  },
  {
   "cell_type": "code",
   "execution_count": null,
   "id": "appointed-return",
   "metadata": {},
   "outputs": [],
   "source": [
    "print(processor.jobs[-1].describe().keys())"
   ]
  },
  {
   "cell_type": "code",
   "execution_count": null,
   "id": "domestic-partner",
   "metadata": {},
   "outputs": [],
   "source": [
    "scikit_processing_job_status = (\n",
    "    processor.jobs[-1].describe()['ProcessingJobStatus'])\n",
    "print('Processing job status: {}'.format(scikit_processing_job_status))"
   ]
  },
  {
   "cell_type": "code",
   "execution_count": null,
   "id": "induced-stephen",
   "metadata": {},
   "outputs": [],
   "source": [
    "display(\n",
    "    HTML(\n",
    "        f'<b>Review <a target=\"blank\" href=\"https://console.aws.amazon.'\n",
    "        f'com/sagemaker/home?region={region}#/processing-jobs/'\n",
    "        f'{scikit_processing_job_name}\">'\n",
    "        f'processing job</a></b>'))"
   ]
  },
  {
   "cell_type": "code",
   "execution_count": null,
   "id": "comic-cleanup",
   "metadata": {},
   "outputs": [],
   "source": [
    "display(\n",
    "    HTML(\n",
    "        f'<b>Review <a target=\"blank\" href=\"https://console.aws.amazon.'\n",
    "        f'com/cloudwatch/home?region={region}#logStream:group=/aws/'\n",
    "        f'sagemaker/ProcessingJobs;prefix={scikit_processing_job_name};'\n",
    "        f'streamFilter=typeLogStreamPrefix\">CloudWatch logs</a> after '\n",
    "        'about 5 minutes</b>'))"
   ]
  },
  {
   "cell_type": "code",
   "execution_count": null,
   "id": "material-agency",
   "metadata": {},
   "outputs": [],
   "source": [
    "display(\n",
    "    HTML(\n",
    "        f'<b>Review <a target=\"blank\" href=\"https://s3.console.aws.amazon'\n",
    "        f'.com/s3/buckets/{bucket}/{scikit_processing_job_name}/'\n",
    "        f'?region={region}&tab=overview\">S3 output data</a> after the '\n",
    "        'processing job has completed</b>'))"
   ]
  },
  {
   "cell_type": "code",
   "execution_count": null,
   "id": "extreme-recorder",
   "metadata": {},
   "outputs": [],
   "source": [
    "%%time\n",
    "\n",
    "running_processor = (\n",
    "    sagemaker.processing.ProcessingJob.from_processing_name(\n",
    "        processing_job_name=scikit_processing_job_name,\n",
    "        sagemaker_session=sess))\n",
    "running_processor.wait(logs=False)"
   ]
  },
  {
   "cell_type": "code",
   "execution_count": null,
   "id": "urban-muscle",
   "metadata": {},
   "outputs": [],
   "source": [
    "processing_job_description = running_processor.describe()\n",
    "output_config = processing_job_description['ProcessingOutputConfig']\n",
    "for output in output_config['Outputs']:\n",
    "    if output['OutputName'] == 'sentiment-train':\n",
    "        processed_train_data_s3_uri = output['S3Output']['S3Uri']\n",
    "    if output['OutputName'] == 'sentiment-validation':\n",
    "        processed_validation_data_s3_uri = output['S3Output']['S3Uri']\n",
    "    if output['OutputName'] == 'sentiment-test':\n",
    "        processed_test_data_s3_uri = output['S3Output']['S3Uri']\n",
    "print(processed_train_data_s3_uri)\n",
    "print(processed_validation_data_s3_uri)\n",
    "print(processed_test_data_s3_uri)"
   ]
  },
  {
   "cell_type": "code",
   "execution_count": null,
   "id": "hybrid-dragon",
   "metadata": {},
   "outputs": [],
   "source": [
    "!aws s3 ls $processed_train_data_s3_uri/"
   ]
  },
  {
   "cell_type": "code",
   "execution_count": null,
   "id": "facial-spoke",
   "metadata": {},
   "outputs": [],
   "source": [
    "!aws s3 ls $processed_validation_data_s3_uri/"
   ]
  },
  {
   "cell_type": "code",
   "execution_count": null,
   "id": "japanese-intake",
   "metadata": {},
   "outputs": [],
   "source": [
    "!aws s3 ls $processed_test_data_s3_uri/"
   ]
  },
  {
   "cell_type": "code",
   "execution_count": null,
   "id": "expired-receipt",
   "metadata": {},
   "outputs": [],
   "source": [
    "!aws s3 cp $processed_train_data_s3_uri/part-algo-1-womens_clothing_ecommerce_reviews.tsv ./balanced/sentiment-train/\n",
    "!aws s3 cp $processed_validation_data_s3_uri/part-algo-1-womens_clothing_ecommerce_reviews.tsv ./balanced/sentiment-validation/\n",
    "!aws s3 cp $processed_test_data_s3_uri/part-algo-1-womens_clothing_ecommerce_reviews.tsv ./balanced/sentiment-test/"
   ]
  },
  {
   "cell_type": "code",
   "execution_count": null,
   "id": "perfect-plymouth",
   "metadata": {},
   "outputs": [],
   "source": [
    "!head -n 5 ./balanced/sentiment-train/part-algo-1-womens_clothing_ecommerce_reviews.tsv"
   ]
  },
  {
   "cell_type": "code",
   "execution_count": null,
   "id": "polar-state",
   "metadata": {},
   "outputs": [],
   "source": [
    "!head -n 5 ./balanced/sentiment-validation/part-algo-1-womens_clothing_ecommerce_reviews.tsv"
   ]
  },
  {
   "cell_type": "code",
   "execution_count": null,
   "id": "general-overall",
   "metadata": {},
   "outputs": [],
   "source": [
    "!head -n 5 ./balanced/sentiment-test/part-algo-1-womens_clothing_ecommerce_reviews.tsv"
   ]
  },
  {
   "cell_type": "markdown",
   "id": "opened-comparison",
   "metadata": {},
   "source": [
    "# 3. Query the Feature Store"
   ]
  },
  {
   "cell_type": "code",
   "execution_count": null,
   "id": "stretch-report",
   "metadata": {},
   "outputs": [],
   "source": [
    "feature_store_query = feature_group.athena_query()\n",
    "feature_store_table = feature_store_query.table_name\n",
    "query_string = f\"\"\"\n",
    "    SELECT date,\n",
    "        review_id,\n",
    "        sentiment, \n",
    "        label_id,\n",
    "        input_ids,\n",
    "        review_body\n",
    "    FROM \"{feature_store_table}\" \n",
    "    WHERE split_type='train' \n",
    "    LIMIT 5\n",
    "\"\"\"\n",
    "print(f'Glue Catalog table name: {feature_store_table}')\n",
    "print(f'Running query: {query_string}'"
   ]
  },
  {
   "cell_type": "code",
   "execution_count": null,
   "id": "worst-municipality",
   "metadata": {},
   "outputs": [],
   "source": [
    "output_s3_uri = (f's3://{bucket}/query_results/'\n",
    "                 f'{feature_store_offline_prefix}/')\n",
    "print(output_s3_uri)"
   ]
  },
  {
   "cell_type": "code",
   "execution_count": null,
   "id": "discrete-latex",
   "metadata": {},
   "outputs": [],
   "source": [
    "feature_store_query.run(query_string=query_string,\n",
    "                        output_location=output_s3_uri)\n",
    "feature_store_query.wait()"
   ]
  },
  {
   "cell_type": "code",
   "execution_count": null,
   "id": "palestinian-manner",
   "metadata": {},
   "outputs": [],
   "source": [
    "pd.set_option(\"max_colwidth\", 100)\n",
    "df_feature_store = feature_store_query.as_dataframe()\n",
    "df_feature_store"
   ]
  },
  {
   "cell_type": "code",
   "execution_count": null,
   "id": "surface-october",
   "metadata": {},
   "outputs": [],
   "source": [
    "df_feature_store.to_csv(\n",
    "    './feature_store_export.tsv',\n",
    "    sep='\\t',\n",
    "    index=False,\n",
    "    header=True)"
   ]
  },
  {
   "cell_type": "code",
   "execution_count": null,
   "id": "designing-triangle",
   "metadata": {},
   "outputs": [],
   "source": [
    "!head -n 5 ./feature_store_export.tsv"
   ]
  },
  {
   "cell_type": "code",
   "execution_count": null,
   "id": "immediate-effect",
   "metadata": {},
   "outputs": [],
   "source": [
    "!aws s3 cp ./feature_store_export.tsv s3://$bucket/feature_store/feature_store_export.tsv"
   ]
  },
  {
   "cell_type": "code",
   "execution_count": null,
   "id": "computational-apollo",
   "metadata": {},
   "outputs": [],
   "source": [
    "!aws s3 ls --recursive s3://$bucket/feature_store/feature_store_export.tsv"
   ]
  },
  {
   "cell_type": "code",
   "execution_count": null,
   "id": "criminal-illness",
   "metadata": {},
   "outputs": [],
   "source": [
    "feature_store_query_2 = feature_group.athena_query()\n",
    "query_string_count_by_sentiment = f\"\"\"\n",
    "    SELECT sentiment, COUNT(sentiment) AS count_reviews\n",
    "    FROM \"{feature_store_table}\"\n",
    "    GROUP BY sentiment\n",
    "\"\"\""
   ]
  },
  {
   "cell_type": "code",
   "execution_count": null,
   "id": "cardiac-theme",
   "metadata": {},
   "outputs": [],
   "source": [
    "feature_store_query_2.run(\n",
    "    query_string=query_string_count_by_sentiment,\n",
    "    output_location=output_s3_uri)\n",
    "feature_store_query_2.wait()\n",
    "df_count_by_sentiment = feature_store_query_2.as_dataframe()\n",
    "df_count_by_sentiment"
   ]
  },
  {
   "cell_type": "code",
   "execution_count": null,
   "id": "offensive-belize",
   "metadata": {},
   "outputs": [],
   "source": [
    "sns.barplot(data=df_count_by_sentiment,\n",
    "            x='sentiment',\n",
    "            y='count_reviews',\n",
    "            color=\"blue\");"
   ]
  },
  {
   "cell_type": "code",
   "execution_count": null,
   "id": "boring-packaging",
   "metadata": {},
   "outputs": [],
   "source": [
    "!aws s3 cp ./C2_W1_Assignment.ipynb s3://$bucket/C2_W1_Assignment_Learner.ipynb\n",
    "!aws s3 cp ./src/prepare_data.py s3://$bucket/src/C2_W1_prepare_data_Learner.py"
   ]
  },
  {
   "cell_type": "code",
   "execution_count": null,
   "id": "documented-elite",
   "metadata": {},
   "outputs": [],
   "source": []
  },
  {
   "cell_type": "code",
   "execution_count": null,
   "id": "informational-color",
   "metadata": {},
   "outputs": [],
   "source": []
  },
  {
   "cell_type": "code",
   "execution_count": null,
   "id": "dominican-today",
   "metadata": {},
   "outputs": [],
   "source": []
  }
 ],
 "metadata": {
  "kernelspec": {
   "display_name": "Python 3",
   "language": "python",
   "name": "python3"
  },
  "language_info": {
   "codemirror_mode": {
    "name": "ipython",
    "version": 3
   },
   "file_extension": ".py",
   "mimetype": "text/x-python",
   "name": "python",
   "nbconvert_exporter": "python",
   "pygments_lexer": "ipython3",
   "version": "3.8.8"
  }
 },
 "nbformat": 4,
 "nbformat_minor": 5
}
