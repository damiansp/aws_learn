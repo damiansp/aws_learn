{
 "cells": [
  {
   "cell_type": "markdown",
   "id": "decreased-parent",
   "metadata": {},
   "source": [
    "Notebook will only run correctly in AWS environment"
   ]
  },
  {
   "cell_type": "code",
   "execution_count": null,
   "id": "boxed-imperial",
   "metadata": {},
   "outputs": [],
   "source": [
    "!pip install --disable-pip-version-check -q sagemaker==2.35.0"
   ]
  },
  {
   "cell_type": "code",
   "execution_count": null,
   "id": "liked-legend",
   "metadata": {},
   "outputs": [],
   "source": [
    "import boto3\n",
    "from   IPython.core.display import display, HTML\n",
    "import matplotlib.pyplot as plt\n",
    "import numpy as np\n",
    "import pandas as pd\n",
    "import sagemaker\n",
    "from sagemaker import clarify\n",
    "import seaborn as sns\n",
    "\n",
    "%config InlineBackend.figure_format='retina'"
   ]
  },
  {
   "cell_type": "code",
   "execution_count": null,
   "id": "integrated-database",
   "metadata": {},
   "outputs": [],
   "source": [
    "sess   = sagemaker.Session()\n",
    "bucket = sess.default_bucket()\n",
    "role = sagemaker.get_execution_role()\n",
    "region = boto3.Session().region_name"
   ]
  },
  {
   "cell_type": "code",
   "execution_count": null,
   "id": "associate-camping",
   "metadata": {},
   "outputs": [],
   "source": [
    "!aws s3 cp s3://dlai-practical-data-science/data/transformed/womens_clothing_ecommerce_reviews_transformed.csv ./"
   ]
  },
  {
   "cell_type": "code",
   "execution_count": null,
   "id": "steady-isolation",
   "metadata": {},
   "outputs": [],
   "source": [
    "path = './womens_clothing_ecommerce_reviews_transformed.csv'\n",
    "df = pd.read_csv(path)\n",
    "df.head()"
   ]
  },
  {
   "cell_type": "code",
   "execution_count": null,
   "id": "mediterranean-payday",
   "metadata": {},
   "outputs": [],
   "source": [
    "sns.countplot(data=df, x='sentiment', hue='product_category')\n",
    "plt.legend(loc='upper right', bbox_to_anchor=(1.3, 1.1));"
   ]
  },
  {
   "cell_type": "code",
   "execution_count": null,
   "id": "neural-shakespeare",
   "metadata": {},
   "outputs": [],
   "source": [
    "data_s3_uri_unbalanced = sess.upload_data(\n",
    "    bucket=bucket, key_prefix='bias/unbalanced', path=path)\n",
    "data_s3_uri_unbalanced"
   ]
  },
  {
   "cell_type": "code",
   "execution_count": null,
   "id": "parental-rehabilitation",
   "metadata": {},
   "outputs": [],
   "source": [
    "display(\n",
    "    HTML(\n",
    "        f'<b>Review <a target=\"top\" href=\"https://s3.console.aws.amazon'\n",
    "        f'.com/s3/home?region={region}#\">Amazon S3 bucket</a></b>'))"
   ]
  },
  {
   "cell_type": "code",
   "execution_count": null,
   "id": "friendly-fault",
   "metadata": {},
   "outputs": [],
   "source": [
    "bias_report_unbalanced_output_path = (\n",
    "    f's3://{bucket}/bias/generated_bias_report/unbalanced'\n",
    "data_config_unbalanced = clarify.DataConfig(\n",
    "    ### BEGIN SOLUTION - DO NOT delete this comment for grading purposes\n",
    "    s3_data_input_path=path, # Replace None\n",
    "    s3_output_path=bias_report_unbalanced_output_path, # Replace None\n",
    "    label='sentiment', # Replace None\n",
    "    ### END SOLUTION - DO NOT delete this comment for grading purposes\n",
    "    headers=df.columns.to_list(),\n",
    "    dataset_type='text/csv')"
   ]
  },
  {
   "cell_type": "code",
   "execution_count": null,
   "id": "threatened-courtesy",
   "metadata": {},
   "outputs": [],
   "source": [
    "bias_config_unbalanced = clarify.BiasConfig(\n",
    "    label_values_or_threshold=[1], # desired sentiment\n",
    "    facet_name='product_category') # sensitive column (facet)"
   ]
  },
  {
   "cell_type": "code",
   "execution_count": null,
   "id": "external-dream",
   "metadata": {},
   "outputs": [],
   "source": [
    "clarify_processor_unbalanced = clarify.SageMakerClarifyProcessor(\n",
    "    role=role, \n",
    "    instance_count=1, \n",
    "    instance_type='ml.m5.large', \n",
    "    sagemaker_session=sess)"
   ]
  },
  {
   "cell_type": "code",
   "execution_count": null,
   "id": "documentary-importance",
   "metadata": {},
   "outputs": [],
   "source": [
    "clarify_processor_unbalanced.run_pre_training_bias(\n",
    "    ### BEGIN SOLUTION - DO NOT delete this comment for grading purposes\n",
    "    data_config=data_config_unbalanced, # Replace None\n",
    "    data_bias_config=bias_config_unbalanced, # Replace None\n",
    "    ### END SOLUTION - DO NOT delete this comment for grading purposes\n",
    "    methods=['CI', 'DPL', 'KL', 'JS', 'LP', 'TVD', 'KS'],\n",
    "    wait=False,\n",
    "    logs=False)"
   ]
  },
  {
   "cell_type": "code",
   "execution_count": null,
   "id": "committed-insert",
   "metadata": {},
   "outputs": [],
   "source": [
    "run_unbalanced_bias_processing_job_name = (\n",
    "    clarify_processor_unbalanced.latest_job.job_name)\n",
    "print(run_unbalanced_bias_processing_job_name)"
   ]
  },
  {
   "cell_type": "code",
   "execution_count": null,
   "id": "behind-furniture",
   "metadata": {},
   "outputs": [],
   "source": [
    "display(\n",
    "    HTML(\n",
    "        f'<b>Review <a target=\"blank\" href=\"https://console.aws.amazon'\n",
    "        f'.com/sagemaker/home?region={region}#/'\n",
    "        f'processing-jobs/{run_unbalanced_bias_processing_job_name}\">'\n",
    "        f'processing job</a></b>'))"
   ]
  },
  {
   "cell_type": "code",
   "execution_count": null,
   "id": "mounted-smoke",
   "metadata": {},
   "outputs": [],
   "source": [
    "display(\n",
    "    HTML(\n",
    "        f'<b>Review <a target=\"blank\" href=\"https://console.aws.amazon'\n",
    "        f'.com/cloudwatch/home?region={region}#logStream:group=/aws/'\n",
    "        f'sagemaker/ProcessingJobs;'\n",
    "        f'prefix={run_unbalanced_bias_processing_job_name};'\n",
    "        f'streamFilter=typeLogStreamPrefix\">CloudWatch logs</a> after '\n",
    "        f'about 5 minutes</b>'))"
   ]
  },
  {
   "cell_type": "code",
   "execution_count": null,
   "id": "tutorial-hudson",
   "metadata": {},
   "outputs": [],
   "source": [
    "running_processor = (\n",
    "    sagemaker.processing.ProcessingJob.from_processing_name(\n",
    "        processing_job_name=run_unbalanced_bias_processing_job_name,\n",
    "        sagemaker_session=sess))"
   ]
  },
  {
   "cell_type": "code",
   "execution_count": null,
   "id": "accomplished-miami",
   "metadata": {},
   "outputs": [],
   "source": [
    "%%time\n",
    "running_processor.wait(logs=False)"
   ]
  },
  {
   "cell_type": "code",
   "execution_count": null,
   "id": "young-athens",
   "metadata": {},
   "outputs": [],
   "source": [
    "!aws s3 ls $bias_report_unbalanced_output_path/"
   ]
  },
  {
   "cell_type": "code",
   "execution_count": null,
   "id": "great-typing",
   "metadata": {},
   "outputs": [],
   "source": [
    "!aws s3 cp --recursive $bias_report_unbalanced_output_path ./generated_bias_report/unbalanced/"
   ]
  },
  {
   "cell_type": "code",
   "execution_count": null,
   "id": "compliant-travel",
   "metadata": {},
   "outputs": [],
   "source": [
    "display(\n",
    "    HTML(\n",
    "        '<b>Review <a target=\"blank\" href=\"./generated_bias_report/'\n",
    "        'unbalanced/report.html\">unbalanced bias report</a></b>'))"
   ]
  },
  {
   "cell_type": "code",
   "execution_count": null,
   "id": "remarkable-discipline",
   "metadata": {},
   "outputs": [],
   "source": [
    "df_grouped_by = df.groupby(['product_category', 'sentiment'])\n",
    "df_balanced = df_grouped_by.apply(\n",
    "    lambda x: x.sample(df_grouped_by.size().min()).reset_index(drop=True))\n",
    "df_balanced"
   ]
  },
  {
   "cell_type": "code",
   "execution_count": null,
   "id": "plain-mention",
   "metadata": {},
   "outputs": [],
   "source": [
    "sns.countplot(data=df_balanced, x='sentiment', hue='product_category')\n",
    "plt.legend(loc='upper right', bbox_to_anchor=(1.3, 1.1));"
   ]
  },
  {
   "cell_type": "code",
   "execution_count": null,
   "id": "operating-anniversary",
   "metadata": {},
   "outputs": [],
   "source": [
    "path_balanced = './womens_clothing_ecommerce_reviews_balanced.csv'\n",
    "df_balanced.to_csv(path_balanced, index=False, header=True)\n",
    "data_s3_uri_balanced = sess.upload_data(\n",
    "    bucket=bucket, key_prefix='bias/balanced', path=path_balanced)\n",
    "data_s3_uri_balanced"
   ]
  },
  {
   "cell_type": "code",
   "execution_count": null,
   "id": "swedish-election",
   "metadata": {},
   "outputs": [],
   "source": [
    "display(\n",
    "    HTML(\n",
    "        f'<b>Review <a target=\"top\" href=\"https://s3.console.aws.amazon'\n",
    "        f'.com/s3/home?region={region}#\">Amazon S3 bucket</a></b>'))"
   ]
  },
  {
   "cell_type": "code",
   "execution_count": null,
   "id": "plain-oakland",
   "metadata": {},
   "outputs": [],
   "source": [
    "bias_report_balanced_output_path = (\n",
    "    f's3://{bucket}/bias/generated_bias_report/balanced')\n",
    "data_config_balanced = clarify.DataConfig(\n",
    "    ### BEGIN SOLUTION - DO NOT delete this comment for grading purposes\n",
    "    s3_data_input_path=path_balanced, # Replace None\n",
    "    s3_output_path=bias_report_balanced_output_path, # Replace None\n",
    "    label='sentiment', # Replace None\n",
    "    ### END SOLUTION - DO NOT delete this comment for grading purposes\n",
    "    headers=df_balanced.columns.to_list(),\n",
    "    dataset_type='text/csv')"
   ]
  },
  {
   "cell_type": "code",
   "execution_count": null,
   "id": "funky-nelson",
   "metadata": {},
   "outputs": [],
   "source": [
    "bias_config_balanced = clarify.BiasConfig(\n",
    "    label_values_or_threshold=[1], # desired sentiment\n",
    "    facet_name='product_category') # sensitive column (facet)"
   ]
  },
  {
   "cell_type": "code",
   "execution_count": null,
   "id": "hearing-terrain",
   "metadata": {},
   "outputs": [],
   "source": [
    "clarify_processor_balanced = clarify.SageMakerClarifyProcessor(\n",
    "    role=role,\n",
    "    instance_count=1,\n",
    "    instance_type='ml.m5.large',\n",
    "    sagemaker_session=sess)"
   ]
  },
  {
   "cell_type": "code",
   "execution_count": null,
   "id": "aerial-chick",
   "metadata": {},
   "outputs": [],
   "source": [
    "clarify_processor_balanced.run_pre_training_bias(\n",
    "    ### BEGIN SOLUTION - DO NOT delete this comment for grading purposes\n",
    "    data_config=data_config_balanced, # Replace None\n",
    "    data_bias_config=bias_config_balanced, # Replace None\n",
    "    ### END SOLUTION - DO NOT delete this comment for grading purposes\n",
    "    methods=['CI', 'DPL', 'KL', 'JS', 'LP', 'TVD', 'KS'],\n",
    "    wait=False,\n",
    "    logs=False)"
   ]
  },
  {
   "cell_type": "code",
   "execution_count": null,
   "id": "instructional-circuit",
   "metadata": {},
   "outputs": [],
   "source": [
    "run_balanced_bias_processing_job_name = (\n",
    "    clarify_processor_balanced.latest_job.job_name)\n",
    "print(run_balanced_bias_processing_job_name)"
   ]
  },
  {
   "cell_type": "code",
   "execution_count": null,
   "id": "canadian-harvard",
   "metadata": {},
   "outputs": [],
   "source": [
    "display(\n",
    "    HTML(\n",
    "        f'<b>Review <a target=\"blank\" href=\"https://console.aws.amazon'\n",
    "        f'.com/sagemaker/home?region={region}#/processing-jobs/'\n",
    "        f'{run_balanced_bias_processing_job_name}\">processing job</a></b>'\n",
    "    ))\n",
    "display(\n",
    "    HTML(\n",
    "        f'<b>Review <a target=\"blank\" href=\"https://console.aws.amazon'\n",
    "        f'.com/cloudwatch/home?region={region}#logStream:group=/aws/'\n",
    "        'sagemaker/ProcessingJobs;'\n",
    "        f'prefix={run_balanced_bias_processing_job_name};'\n",
    "        f'streamFilter=typeLogStreamPrefix\">CloudWatch logs</a> after '\n",
    "        'about 5 minutes</b>'))"
   ]
  },
  {
   "cell_type": "code",
   "execution_count": null,
   "id": "aging-pattern",
   "metadata": {},
   "outputs": [],
   "source": [
    "running_processor = (\n",
    "    sagemaker.processing.ProcessingJob.from_processing_name(\n",
    "        processing_job_name=run_balanced_bias_processing_job_name,\n",
    "        sagemaker_session=sess))"
   ]
  },
  {
   "cell_type": "code",
   "execution_count": null,
   "id": "median-offering",
   "metadata": {},
   "outputs": [],
   "source": [
    "%%time\n",
    "running_processor.wait(logs=False)"
   ]
  },
  {
   "cell_type": "code",
   "execution_count": null,
   "id": "developmental-fight",
   "metadata": {},
   "outputs": [],
   "source": [
    "!aws s3 ls $bias_report_balanced_output_path/"
   ]
  },
  {
   "cell_type": "code",
   "execution_count": null,
   "id": "textile-court",
   "metadata": {},
   "outputs": [],
   "source": [
    "!aws s3 cp --recursive $bias_report_balanced_output_path ./generated_bias_report/balanced/"
   ]
  },
  {
   "cell_type": "code",
   "execution_count": null,
   "id": "spiritual-spice",
   "metadata": {},
   "outputs": [],
   "source": [
    "display(\n",
    "    HTML(\n",
    "        '<b>Review <a target=\"blank\" href=\"./generated_bias_report/'\n",
    "        'balanced/report.html\">balanced bias report</a></b>'))"
   ]
  },
  {
   "cell_type": "code",
   "execution_count": null,
   "id": "secure-guyana",
   "metadata": {},
   "outputs": [],
   "source": [
    "!aws s3 cp ./C1_W2_Assignment.ipynb s3://$bucket/C1_W2_Assignment_Learner.ipynb"
   ]
  }
 ],
 "metadata": {
  "kernelspec": {
   "display_name": "Python 3",
   "language": "python",
   "name": "python3"
  },
  "language_info": {
   "codemirror_mode": {
    "name": "ipython",
    "version": 3
   },
   "file_extension": ".py",
   "mimetype": "text/x-python",
   "name": "python",
   "nbconvert_exporter": "python",
   "pygments_lexer": "ipython3",
   "version": "3.8.8"
  }
 },
 "nbformat": 4,
 "nbformat_minor": 5
}
