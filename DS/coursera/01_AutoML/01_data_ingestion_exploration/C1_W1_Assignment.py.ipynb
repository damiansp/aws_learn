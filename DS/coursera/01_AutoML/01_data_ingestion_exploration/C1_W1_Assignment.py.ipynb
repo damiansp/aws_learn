{
 "cells": [
  {
   "cell_type": "markdown",
   "id": "approved-virus",
   "metadata": {},
   "source": [
    "Will only run in AWS SageMaker"
   ]
  },
  {
   "cell_type": "code",
   "execution_count": null,
   "id": "abandoned-divorce",
   "metadata": {},
   "outputs": [],
   "source": [
    "!pip install --disable-pip-version-check -q sagemaker==2.35.0\n",
    "!pip install --disable-pip-version-check -q pandas==1.1.4\n",
    "!pip install --disable-pip-version-check -q awswrangler==2.7.0\n",
    "!pip install --disable-pip-version-check -q numpy==1.18.5\n",
    "!pip install --disable-pip-version-check -q seaborn==0.11.0\n",
    "!pip install --disable-pip-version-check -q matplotlib===3.3.3"
   ]
  },
  {
   "cell_type": "code",
   "execution_count": null,
   "id": "impossible-parish",
   "metadata": {},
   "outputs": [],
   "source": [
    "!aws s3 cp \\\n",
    "  s3://dlai-practical-data-science/data/raw/womens_clothing_ecommerce_reviews.csv \\\n",
    "  ./womens_clothing_ecommerce_reviews.csv"
   ]
  },
  {
   "cell_type": "code",
   "execution_count": null,
   "id": "perfect-warner",
   "metadata": {},
   "outputs": [],
   "source": [
    "import awswrangler as wr\n",
    "import boto3\n",
    "from   IPython.core.display import display, HTML\n",
    "import matplotlib.pyplot as plt\n",
    "import numpy as np\n",
    "import pandas as pd\n",
    "import sagemaker\n",
    "import seaborn as sns\n",
    "#import csv"
   ]
  },
  {
   "cell_type": "code",
   "execution_count": null,
   "id": "resistant-equipment",
   "metadata": {},
   "outputs": [],
   "source": [
    "%config InlineBackend.figure_format='retina'"
   ]
  },
  {
   "cell_type": "code",
   "execution_count": null,
   "id": "biblical-utility",
   "metadata": {},
   "outputs": [],
   "source": [
    "df = pd.read_csv('./womens_clothing_ecommerce_reviews.csv',\n",
    "                 index_col=0)\n",
    "print(df.shape)\n",
    "df.head()"
   ]
  },
  {
   "cell_type": "markdown",
   "id": "differential-glenn",
   "metadata": {},
   "source": [
    "### Transform"
   ]
  },
  {
   "cell_type": "code",
   "execution_count": null,
   "id": "czech-evanescence",
   "metadata": {},
   "outputs": [],
   "source": [
    "df_transformed = df.rename(columns={'Review Text': 'review_body',\n",
    "                                    'Rating': 'star_rating',\n",
    "                                    'Class Name': 'product_category'})\n",
    "df_transformed.drop(\n",
    "    columns=['Clothing ID', 'Age', 'Title', 'Recommended IND', \n",
    "             'Positive Feedback Count', 'Division Name', 'Department Name'],\n",
    "    inplace=True)\n",
    "df_transformed.dropna(inplace=True)\n",
    "df_transformed.shape"
   ]
  },
  {
   "cell_type": "code",
   "execution_count": null,
   "id": "breathing-violence",
   "metadata": {},
   "outputs": [],
   "source": [
    "def to_sentiment(star_rating):\n",
    "    if star_rating in {1, 2}: # negative\n",
    "        return -1 \n",
    "    if star_rating == 3:      # neutral\n",
    "        return 0\n",
    "    if star_rating in {4, 5}: # positive\n",
    "        return 1"
   ]
  },
  {
   "cell_type": "code",
   "execution_count": null,
   "id": "catholic-polymer",
   "metadata": {},
   "outputs": [],
   "source": [
    "df_transformed['sentiment'] = df_transformed['star_rating'].apply(\n",
    "    lambda star_rating: to_sentiment(star_rating=star_rating))\n",
    "df_transformed.drop(columns=['star_rating'], inplace=True)\n",
    "df_transformed = (\n",
    "    df_transformed.groupby('product_category')\n",
    "        .filter(lambda reviews: len(reviews) > 10)[\n",
    "            ['sentiment', 'review_body', 'product_category']])\n",
    "print(df_transformed.shape)\n",
    "df_transformed.head()"
   ]
  },
  {
   "cell_type": "code",
   "execution_count": null,
   "id": "ceramic-walker",
   "metadata": {},
   "outputs": [],
   "source": [
    "df_transformed.to_csv('./womens_clothing_ecommerce_reviews_transformed.csv', \n",
    "                      index=False)"
   ]
  },
  {
   "cell_type": "code",
   "execution_count": null,
   "id": "strange-bidding",
   "metadata": {},
   "outputs": [],
   "source": [
    "!head -n 5 ./womens_clothing_ecommerce_reviews_transformed.csv"
   ]
  },
  {
   "cell_type": "markdown",
   "id": "median-perry",
   "metadata": {},
   "source": [
    "### Register Dataset for Querying"
   ]
  },
  {
   "cell_type": "code",
   "execution_count": null,
   "id": "corrected-identifier",
   "metadata": {},
   "outputs": [],
   "source": [
    "sess = sagemaker.Session()\n",
    "bucket = sess.default_bucket()\n",
    "region = boto3.Session().region_name\n",
    "\n",
    "# Account ID \n",
    "sts = (boto3.Session(region_name=region)\n",
    "       .client(service_name=\"sts\", region_name=region))\n",
    "account_id = sts.get_caller_identity()['Account']\n",
    "print('S3 Bucket: {}'.format(bucket))\n",
    "print('Region: {}'.format(region))\n",
    "print('Account ID: {}'.format(account_id))"
   ]
  },
  {
   "cell_type": "code",
   "execution_count": null,
   "id": "impressed-envelope",
   "metadata": {},
   "outputs": [],
   "source": [
    "display(HTML(\n",
    "    f'<b>Review <a target=\"top\" href=\"https://s3.console.aws.amazon.com/s3/'\n",
    "    f'home?region={region}#\">Amazon S3 buckets</a></b>'))"
   ]
  },
  {
   "cell_type": "code",
   "execution_count": null,
   "id": "personal-gasoline",
   "metadata": {},
   "outputs": [],
   "source": [
    "!aws s3 cp ./womens_clothing_ecommerce_reviews_transformed.csv \\\n",
    "  s3://$bucket/data/transformed/womens_clothing_ecommerce_reviews_transformed.csv"
   ]
  },
  {
   "cell_type": "code",
   "execution_count": null,
   "id": "honey-airline",
   "metadata": {},
   "outputs": [],
   "source": [
    "display(HTML(\n",
    "    f'<b>Review <a target=\"top\" href=\"https://s3.console.aws.amazon.com/s3/'\n",
    "    f'buckets/{bucket}?region={region}&prefix=data/transformed/#\">'\n",
    "    'Amazon S3 buckets</a></b>'))"
   ]
  },
  {
   "cell_type": "code",
   "execution_count": null,
   "id": "unique-cleaning",
   "metadata": {},
   "outputs": [],
   "source": [
    "wr.catalog.create_database(name='dsoaws_deep_learning', exist_ok=True)"
   ]
  },
  {
   "cell_type": "code",
   "execution_count": null,
   "id": "durable-portsmouth",
   "metadata": {},
   "outputs": [],
   "source": [
    "dbs = wr.catalog.get_databases()\n",
    "for db in dbs:\n",
    "    print('Database name:', db['Name'])"
   ]
  },
  {
   "cell_type": "code",
   "execution_count": null,
   "id": "olympic-venice",
   "metadata": {},
   "outputs": [],
   "source": [
    "display(HTML(\n",
    "    f'<b>Review <a target=\"top\" href=\"https://console.aws.amazon.com/glue/'\n",
    "    f'home?region={region}#catalog:tab=databases\">AWS Glue Databases</a>'\n",
    "    '</b>'))"
   ]
  },
  {
   "cell_type": "code",
   "execution_count": null,
   "id": "median-handy",
   "metadata": {},
   "outputs": [],
   "source": [
    "wr.catalog.create_csv_table(\n",
    "    ### BEGIN SOLUTION - DO NOT delete this comment for grading purposes\n",
    "    database='dsoaws_deep_learning', # Replace None\n",
    "    ### END SOLUTION - DO NOT delete this comment for grading purposes\n",
    "    path=f's3://{bucket}/data/transformed/', \n",
    "    table='reviews',    \n",
    "    columns_types={'sentiment': 'int',        \n",
    "                   'review_body': 'string',\n",
    "                   'product_category': 'string'},\n",
    "    mode='overwrite',\n",
    "    skip_header_line_count=1,\n",
    "    sep=',')"
   ]
  },
  {
   "cell_type": "code",
   "execution_count": null,
   "id": "absolute-politics",
   "metadata": {},
   "outputs": [],
   "source": [
    "display(HTML(\n",
    "    f'<b>Review <a target=\"top\" href=\"https://console.aws.amazon.com/glue/'\n",
    "    f'home?region={region}#\">AWS Glue Catalog</a></b>'))"
   ]
  },
  {
   "cell_type": "code",
   "execution_count": null,
   "id": "ranking-observation",
   "metadata": {},
   "outputs": [],
   "source": [
    "table = wr.catalog.table(database='dsoaws_deep_learning', table='reviews')\n",
    "table"
   ]
  },
  {
   "cell_type": "code",
   "execution_count": null,
   "id": "sufficient-definition",
   "metadata": {},
   "outputs": [],
   "source": [
    "wr.athena.create_athena_bucket()"
   ]
  },
  {
   "cell_type": "markdown",
   "id": "unlikely-table",
   "metadata": {},
   "source": [
    "### Viz"
   ]
  },
  {
   "cell_type": "code",
   "execution_count": null,
   "id": "vulnerable-centre",
   "metadata": {},
   "outputs": [],
   "source": [
    "database_name = 'dsoaws_deep_learning'\n",
    "table_name = 'reviews'"
   ]
  },
  {
   "cell_type": "code",
   "execution_count": null,
   "id": "continent-challenge",
   "metadata": {},
   "outputs": [],
   "source": [
    "sns.set_style = 'seaborn-whitegrid'\n",
    "sns.set(rc={'font.style': 'normal',\n",
    "            'axes.facecolor\": 'white',\n",
    "            'grid.color': '.8',\n",
    "            'grid.linestyle': '-',\n",
    "            'figure.facecolor': 'white',\n",
    "            'figure.titlesize': 20,\n",
    "            'text.color': 'black',\n",
    "            'xtick.color': 'black',\n",
    "            'ytick.color': 'black',\n",
    "            'axes.labelcolor': 'black',\n",
    "            'axes.grid': True,\n",
    "            'axes.labelsize': 10,\n",
    "            'xtick.labelsize': 10,\n",
    "            'font.size': 10,\n",
    "            'ytick.labelsize': 10})"
   ]
  },
  {
   "cell_type": "code",
   "execution_count": null,
   "id": "disciplinary-legend",
   "metadata": {},
   "outputs": [],
   "source": [
    "statement_count_by_sentiment = '''\n",
    "SELECT sentiment, COUNT(sentiment) AS count_sentiment\n",
    "FROM reviews\n",
    "GROUP BY sentiment\n",
    "ORDER BY sentiment\n",
    "'''\n",
    "print(statement_count_by_sentiment)"
   ]
  },
  {
   "cell_type": "code",
   "execution_count": null,
   "id": "handy-listening",
   "metadata": {},
   "outputs": [],
   "source": [
    "df_count_by_sentiment = wr.athena.read_sql_query(\n",
    "    sql=statement_count_by_sentiment, database=database_name)\n",
    "df_count_by_sentiment"
   ]
  },
  {
   "cell_type": "code",
   "execution_count": null,
   "id": "informational-avenue",
   "metadata": {},
   "outputs": [],
   "source": [
    "df_count_by_sentiment.plot(\n",
    "    kind='bar', x='sentiment', y='count_sentiment', rot=0);"
   ]
  },
  {
   "cell_type": "code",
   "execution_count": null,
   "id": "based-device",
   "metadata": {},
   "outputs": [],
   "source": [
    "# Replace all None\n",
    "### BEGIN SOLUTION - DO NOT delete this comment for grading purposes\n",
    "statement_count_by_category = f'''\n",
    "SELECT product_category, COUNT(sentiment) AS count_sentiment\n",
    "FROM {table_name}\n",
    "GROUP BY product_category \n",
    "ORDER BY count_sentiment DESC\n",
    "'''\n",
    "### END SOLUTION - DO NOT delete this comment for grading purposes\n",
    "print(statement_count_by_category)"
   ]
  },
  {
   "cell_type": "code",
   "execution_count": null,
   "id": "spiritual-breeding",
   "metadata": {},
   "outputs": [],
   "source": [
    "%%time\n",
    "df_count_by_category = wr.athena.read_sql_query(\n",
    "    sql=statement_count_by_category,\n",
    "    database=database_name)\n",
    "df_count_by_category\n",
    "\n",
    "# EXPECTED OUTPUT\n",
    "# Dresses: 6145\n",
    "# Knits: 4626\n",
    "# Blouses: 2983\n",
    "# Sweaters: 1380\n",
    "# Pants: 1350\n",
    "# ..."
   ]
  },
  {
   "cell_type": "code",
   "execution_count": null,
   "id": "junior-nirvana",
   "metadata": {},
   "outputs": [],
   "source": [
    "statement_avg_by_category = f'''\n",
    "SELECT product_category, AVG(sentiment) AS avg_sentiment\n",
    "FROM {table_name} \n",
    "GROUP BY product_category \n",
    "ORDER BY avg_sentiment DESC\n",
    "'''\n",
    "print(statement_avg_by_category)"
   ]
  },
  {
   "cell_type": "code",
   "execution_count": null,
   "id": "expressed-thursday",
   "metadata": {},
   "outputs": [],
   "source": [
    "%%time\n",
    "df_avg_by_category = wr.athena.read_sql_query(\n",
    "    sql=statement_avg_by_category,\n",
    "    database=database_name)"
   ]
  },
  {
   "cell_type": "code",
   "execution_count": null,
   "id": "impressive-stamp",
   "metadata": {},
   "outputs": [],
   "source": [
    "display(HTML(\n",
    "    f'<b>Review <a target=\"top\" href=\"https://s3.console.aws.amazon.com/s3/'\n",
    "    f'buckets/aws-athena-query-results-{account_id}-{region}?'\n",
    "    f'region={region}\">Amazon S3 buckets</a></b>'))"
   ]
  },
  {
   "cell_type": "code",
   "execution_count": null,
   "id": "cordless-benchmark",
   "metadata": {},
   "outputs": [],
   "source": [
    "df_avg_by_category"
   ]
  },
  {
   "cell_type": "code",
   "execution_count": null,
   "id": "graduate-papua",
   "metadata": {},
   "outputs": [],
   "source": [
    "def show_values_barplot(axs, space):\n",
    "    def _show_on_plot(ax):\n",
    "        for p in ax.patches:\n",
    "            _x = p.get_x() + p.get_width() + float(space)\n",
    "            _y = p.get_y() + p.get_height()\n",
    "            value = round(float(p.get_width()),2)\n",
    "            ax.text(_x, _y, value, ha='left')\n",
    "\n",
    "    if isinstance(axs, np.ndarray):\n",
    "        for idx, ax in np.ndenumerate(axs):\n",
    "            _show_on_plot(ax)\n",
    "    else:\n",
    "        _show_on_plot(axs)"
   ]
  },
  {
   "cell_type": "code",
   "execution_count": null,
   "id": "insured-directory",
   "metadata": {},
   "outputs": [],
   "source": [
    "barplot = sns.barplot(data=df_avg_by_category, \n",
    "                      y='product_category',\n",
    "                      x='avg_sentiment', \n",
    "                      color='b', \n",
    "                      saturation=1)\n",
    "\n",
    "# Set the size of the figure\n",
    "sns.set(rc={'figure.figsize': (15.0, 10.0)})\n",
    "    \n",
    "# Set title and x-axis ticks \n",
    "plt.title('Average sentiment by product category')\n",
    "#plt.xticks([-1, 0, 1], ['Negative', 'Neutral', 'Positive'])\n",
    "\n",
    "# Helper code to show actual values afters bars \n",
    "show_values_barplot(barplot, 0.1)\n",
    "\n",
    "plt.xlabel('Average sentiment')\n",
    "plt.ylabel('Product category')\n",
    "\n",
    "plt.tight_layout()\n",
    "# Do not change the figure name - it is used for grading purposes!\n",
    "plt.savefig('avg_sentiment_per_category.png', dpi=300)\n",
    "\n",
    "# Show graphic\n",
    "plt.show(barplot)"
   ]
  },
  {
   "cell_type": "code",
   "execution_count": null,
   "id": "delayed-municipality",
   "metadata": {},
   "outputs": [],
   "source": [
    "sess.upload_data(path='avg_sentiment_per_category.png', \n",
    "                 bucket=bucket, \n",
    "                 key_prefix='images')"
   ]
  },
  {
   "cell_type": "code",
   "execution_count": null,
   "id": "scientific-responsibility",
   "metadata": {},
   "outputs": [],
   "source": [
    "display(HTML(\n",
    "    f'<b>Review <a target=\"top\" href=\"https://s3.console.aws.amazon.com/s3/'\n",
    "    f'home?region={region}\">Amazon S3 buckets</a></b>'))"
   ]
  },
  {
   "cell_type": "code",
   "execution_count": null,
   "id": "absent-hungary",
   "metadata": {},
   "outputs": [],
   "source": [
    "statement_count_by_category_desc = f'''\n",
    "SELECT product_category, COUNT(*) AS count_reviews \n",
    "FROM {table_name}\n",
    "GROUP BY product_category \n",
    "ORDER BY count_reviews DESC\n",
    "'''\n",
    "print(statement_count_by_category_desc)"
   ]
  },
  {
   "cell_type": "code",
   "execution_count": null,
   "id": "incident-healing",
   "metadata": {},
   "outputs": [],
   "source": [
    "%%time\n",
    "df_count_by_category_desc = wr.athena.read_sql_query(\n",
    "    sql=statement_count_by_category_desc, database=database_name)"
   ]
  },
  {
   "cell_type": "code",
   "execution_count": null,
   "id": "liked-volume",
   "metadata": {},
   "outputs": [],
   "source": [
    "max_sentiment = df_count_by_category_desc.count_reviews.max()\n",
    "print('Highest number of reviews (in a single category):', max_sentiment)"
   ]
  },
  {
   "cell_type": "code",
   "execution_count": null,
   "id": "expensive-bernard",
   "metadata": {},
   "outputs": [],
   "source": [
    "# Create seaborn barplot\n",
    "barplot = sns.barplot(\n",
    "    ### BEGIN SOLUTION - DO NOT delete this comment for grading purposes\n",
    "    data=df_count_by_category, # Replace None\n",
    "    y='product_category', # Replace None\n",
    "    x='count_sentiment', # Replace None\n",
    "    ### END SOLUTION - DO NOT delete this comment for grading purposes\n",
    "    color='b',\n",
    "    saturation=1)\n",
    "\n",
    "# Set the size of the figure\n",
    "sns.set(rc={'figure.figsize': (15.0, 10.0)})\n",
    "    \n",
    "# Set title\n",
    "plt.title('Number of reviews per product category')\n",
    "plt.xlabel('Number of reviews')\n",
    "plt.ylabel('Product category')\n",
    "plt.tight_layout()\n",
    "\n",
    "# Do not change the figure name - it is used for grading purposes!\n",
    "plt.savefig('n_reviews_per_category.png', dpi=300)\n",
    "\n",
    "# Show the barplot\n",
    "plt.show(barplot)"
   ]
  },
  {
   "cell_type": "code",
   "execution_count": null,
   "id": "green-reggae",
   "metadata": {},
   "outputs": [],
   "source": [
    "sess.upload_data(path='n_reviews_per_category.png', \n",
    "                 bucket=bucket, \n",
    "                 key_prefix='images')"
   ]
  },
  {
   "cell_type": "code",
   "execution_count": null,
   "id": "surrounded-enzyme",
   "metadata": {},
   "outputs": [],
   "source": [
    "statement_count_by_category_and_sentiment = f'''\n",
    "SELECT product_category, sentiment, COUNT(*) AS count_reviews\n",
    "FROM {table_name}\n",
    "GROUP BY  product_category, sentiment\n",
    "ORDER BY  product_category ASC, sentiment DESC, count_reviews\n",
    "'''\n",
    "print(statement_count_by_category_and_sentiment)"
   ]
  },
  {
   "cell_type": "code",
   "execution_count": null,
   "id": "independent-miami",
   "metadata": {},
   "outputs": [],
   "source": [
    "%%time\n",
    "df_count_by_category_and_sentiment = wr.athena.read_sql_query(\n",
    "    sql=statement_count_by_category_and_sentiment,\n",
    "    database=database_name)"
   ]
  },
  {
   "cell_type": "code",
   "execution_count": null,
   "id": "blond-williams",
   "metadata": {},
   "outputs": [],
   "source": [
    "# Create grouped dataframes by category and by sentiment\n",
    "grouped_category = df_count_by_category_and_sentiment.groupby(\n",
    "    'product_category')\n",
    "grouped_star = df_count_by_category_and_sentiment.groupby('sentiment')\n",
    "\n",
    "# Create sum of sentiments per star sentiment\n",
    "df_sum = df_count_by_category_and_sentiment.groupby(['sentiment']).sum()\n",
    "\n",
    "# Calculate total number of sentiments\n",
    "total = df_sum.count_reviews.sum()\n",
    "print('Total number of reviews:', total)"
   ]
  },
  {
   "cell_type": "code",
   "execution_count": null,
   "id": "grateful-cholesterol",
   "metadata": {},
   "outputs": [],
   "source": [
    "distribution = {}\n",
    "count_reviews_per_star = []\n",
    "i = 0\n",
    "\n",
    "for category, sentiments in grouped_category:\n",
    "    count_reviews_per_star = []\n",
    "    for star in sentiments['sentiment']:\n",
    "        count_reviews_per_star.append(sentiments.at[i, 'count_reviews'])\n",
    "        i += 1\n",
    "    distribution[category] = count_reviews_per_star\n",
    "distribution    "
   ]
  },
  {
   "cell_type": "code",
   "execution_count": null,
   "id": "powered-patrick",
   "metadata": {},
   "outputs": [],
   "source": [
    "df_distribution_pct = pd.DataFrame(distribution).transpose().apply(\n",
    "    lambda n_sentiments: n_sentiments / sum(n_sentiments) * 100, \n",
    "    axis=1)\n",
    "df_distribution_pct.columns=['1', '0', '-1']\n",
    "df_distribution_pct"
   ]
  },
  {
   "cell_type": "code",
   "execution_count": null,
   "id": "stunning-roman",
   "metadata": {},
   "outputs": [],
   "source": [
    "categories = df_distribution_pct.index\n",
    "\n",
    "# Plot bars\n",
    "plt.figure(figsize=(10, 5))\n",
    "df_distribution_pct.plot(kind='barh', \n",
    "                         stacked=True, \n",
    "                         edgecolor='white',\n",
    "                         width=1.0,\n",
    "                         color=['green', 'orange', 'blue'])\n",
    "plt.title('Distribution of reviews per sentiment per category', \n",
    "          fontsize='16')\n",
    "plt.legend(bbox_to_anchor=(1.04, 1), \n",
    "           loc='upper left',\n",
    "           labels=['Positive', 'Neutral', 'Negative'])\n",
    "plt.xlabel('% Breakdown of sentiments', fontsize='14')\n",
    "plt.gca().invert_yaxis()\n",
    "plt.tight_layout()\n",
    "\n",
    "# Do not change the figure name - it is used for grading purposes!\n",
    "plt.savefig('distribution_sentiment_per_category.png', dpi=300)\n",
    "plt.show();"
   ]
  },
  {
   "cell_type": "code",
   "execution_count": null,
   "id": "demographic-palmer",
   "metadata": {},
   "outputs": [],
   "source": [
    "sess.upload_data(path='distribution_sentiment_per_category.png', \n",
    "                 bucket=bucket, \n",
    "                 key_prefix='images')"
   ]
  },
  {
   "cell_type": "code",
   "execution_count": null,
   "id": "resistant-transfer",
   "metadata": {},
   "outputs": [],
   "source": [
    "statement_n_words = f'''\n",
    "SELECT CARDINALITY(SPLIT(review_body, ' ')) as n_words\n",
    "FROM {table_name}'''\n",
    "print(statement_n_words)"
   ]
  },
  {
   "cell_type": "code",
   "execution_count": null,
   "id": "parental-lyric",
   "metadata": {},
   "outputs": [],
   "source": [
    "%%time\n",
    "df_n_words = wr.athena.read_sql_query(sql=statement_n_words,\n",
    "                                      database=database_name)"
   ]
  },
  {
   "cell_type": "code",
   "execution_count": null,
   "id": "adolescent-asian",
   "metadata": {},
   "outputs": [],
   "source": [
    "summary = df_n_words.n_words.describe(\n",
    "    percentiles=[\n",
    "        0.10, 0.20, 0.30, 0.40, 0.50, 0.60, 0.70, 0.80, 0.90, 1.00])\n",
    "summary"
   ]
  },
  {
   "cell_type": "code",
   "execution_count": null,
   "id": "composite-smile",
   "metadata": {},
   "outputs": [],
   "source": [
    "df_n_words.n_words.plot.hist(\n",
    "    xticks=[0, 16, 32, 64, 128, 256], \n",
    "    bins=100, \n",
    "    range=[0, 256]\n",
    ").axvline(x=summary['100%'], c='red')\n",
    "plt.xlabel('Words number', fontsize='14')\n",
    "plt.ylabel('Frequency', fontsize='14')\n",
    "plt.savefig('distribution_n_words_per_review.png', dpi=300)\n",
    "plt.show()"
   ]
  },
  {
   "cell_type": "code",
   "execution_count": null,
   "id": "corresponding-armstrong",
   "metadata": {},
   "outputs": [],
   "source": [
    "sess.upload_data(path='distribution_n_words_per_review.png', \n",
    "                 bucket=bucket, \n",
    "                 key_prefix='images')"
   ]
  },
  {
   "cell_type": "code",
   "execution_count": null,
   "id": "danish-riding",
   "metadata": {},
   "outputs": [],
   "source": []
  },
  {
   "cell_type": "code",
   "execution_count": null,
   "id": "twelve-reception",
   "metadata": {},
   "outputs": [],
   "source": []
  },
  {
   "cell_type": "code",
   "execution_count": null,
   "id": "wrong-royal",
   "metadata": {},
   "outputs": [],
   "source": []
  },
  {
   "cell_type": "code",
   "execution_count": null,
   "id": "acoustic-interference",
   "metadata": {},
   "outputs": [],
   "source": []
  },
  {
   "cell_type": "code",
   "execution_count": null,
   "id": "hollywood-allocation",
   "metadata": {},
   "outputs": [],
   "source": []
  }
 ],
 "metadata": {
  "kernelspec": {
   "display_name": "Python 3",
   "language": "python",
   "name": "python3"
  },
  "language_info": {
   "codemirror_mode": {
    "name": "ipython",
    "version": 3
   },
   "file_extension": ".py",
   "mimetype": "text/x-python",
   "name": "python",
   "nbconvert_exporter": "python",
   "pygments_lexer": "ipython3",
   "version": "3.8.8"
  }
 },
 "nbformat": 4,
 "nbformat_minor": 5
}
