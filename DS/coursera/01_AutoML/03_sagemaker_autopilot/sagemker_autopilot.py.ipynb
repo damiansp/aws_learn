{
 "cells": [
  {
   "cell_type": "code",
   "execution_count": null,
   "id": "african-collaboration",
   "metadata": {},
   "outputs": [],
   "source": [
    "!pip install --disable-pip-version-check -q sagemaker==2.35.0"
   ]
  },
  {
   "cell_type": "code",
   "execution_count": null,
   "id": "fallen-round",
   "metadata": {},
   "outputs": [],
   "source": [
    "import json\n",
    "import time\n",
    "\n",
    "import boto3\n",
    "from   IPython.core.display import display, HTML\n",
    "import matplotlib.pyplot as plt\n",
    "import numpy as np\n",
    "import pandas as pd\n",
    "from   pprint import pprint\n",
    "import sagemaker\n",
    "\n",
    "\n",
    "%matplotlib inline\n",
    "%config InlineBackend.figure_format='retina'"
   ]
  },
  {
   "cell_type": "code",
   "execution_count": null,
   "id": "concrete-incident",
   "metadata": {},
   "outputs": [],
   "source": [
    "sess   = sagemaker.Session()\n",
    "bucket = sess.default_bucket()\n",
    "role = sagemaker.get_execution_role()\n",
    "region = boto3.Session().region_name"
   ]
  },
  {
   "cell_type": "markdown",
   "id": "chief-discount",
   "metadata": {},
   "source": [
    "# 1. Review transformed dataset"
   ]
  },
  {
   "cell_type": "code",
   "execution_count": null,
   "id": "outstanding-sellers",
   "metadata": {},
   "outputs": [],
   "source": [
    "!aws s3 cp 's3://dlai-practical-data-science/data/balanced/womens_clothing_ecommerce_reviews_balanced.csv' ./"
   ]
  },
  {
   "cell_type": "code",
   "execution_count": null,
   "id": "british-center",
   "metadata": {},
   "outputs": [],
   "source": [
    "path = './womens_clothing_ecommerce_reviews_balanced.csv'\n",
    "df = pd.read_csv(path)\n",
    "df.head()"
   ]
  },
  {
   "cell_type": "code",
   "execution_count": null,
   "id": "false-dodge",
   "metadata": {},
   "outputs": [],
   "source": [
    "path_autopilot = (\n",
    "    './womens_clothing_ecommerce_reviews_balanced_for_autopilot.csv')\n",
    "df[['sentiment', 'review_body']].to_csv(path_autopilot, index=False)"
   ]
  },
  {
   "cell_type": "markdown",
   "id": "danish-tablet",
   "metadata": {},
   "source": [
    "# 2. Configure the Autopilot job"
   ]
  },
  {
   "cell_type": "code",
   "execution_count": null,
   "id": "enhanced-communication",
   "metadata": {},
   "outputs": [],
   "source": [
    "autopilot_train_s3_uri = sess.upload_data(\n",
    "    bucket=bucket, key_prefix='autopilot/data', path=path_autopilot)\n",
    "autopilot_train_s3_uri"
   ]
  },
  {
   "cell_type": "code",
   "execution_count": null,
   "id": "moral-satin",
   "metadata": {},
   "outputs": [],
   "source": [
    "!aws s3 ls $autopilot_train_s3_uri"
   ]
  },
  {
   "cell_type": "code",
   "execution_count": null,
   "id": "relevant-division",
   "metadata": {},
   "outputs": [],
   "source": [
    "model_output_s3_uri = f's3://{bucket}/autopilot'\n",
    "print(model_output_s3_uri)"
   ]
  },
  {
   "cell_type": "code",
   "execution_count": null,
   "id": "offensive-stevens",
   "metadata": {},
   "outputs": [],
   "source": [
    "timestamp = int(time.time())\n",
    "auto_ml_job_name = f'automl-dm-{timestamp}'"
   ]
  },
  {
   "cell_type": "code",
   "execution_count": null,
   "id": "indie-czech",
   "metadata": {},
   "outputs": [],
   "source": [
    "max_candidates = 3\n",
    "automl = sagemaker.automl.automl.AutoML(\n",
    "    ### BEGIN SOLUTION - DO NOT delete this comment for grading purposes\n",
    "    target_attribute_name='sentiment', # Replace None\n",
    "    base_job_name=auto_ml_job_name, # Replace None\n",
    "    output_path=model_output_s3_uri, # Replace None\n",
    "    ### END SOLUTION - DO NOT delete this comment for grading purposes\n",
    "    max_candidates=max_candidates,\n",
    "    sagemaker_session=sess,\n",
    "    role=role,\n",
    "    max_runtime_per_training_job_in_seconds=1200,\n",
    "    total_job_runtime_in_seconds=7200)"
   ]
  },
  {
   "cell_type": "markdown",
   "id": "sought-thirty",
   "metadata": {},
   "source": [
    "# 3. Launch the Autopilot job"
   ]
  },
  {
   "cell_type": "code",
   "execution_count": null,
   "id": "liquid-climb",
   "metadata": {},
   "outputs": [],
   "source": [
    "automl.fit(\n",
    "    ### BEGIN SOLUTION - DO NOT delete this comment for grading purposes\n",
    "    autopilot_train_s3_uri, #path_autopilot, # Replace None\n",
    "    ### END SOLUTION - DO NOT delete this comment for grading purposes\n",
    "    job_name=auto_ml_job_name, \n",
    "    wait=False, \n",
    "    logs=False)"
   ]
  },
  {
   "cell_type": "markdown",
   "id": "miniature-immunology",
   "metadata": {},
   "source": [
    "# 4. Track Autopilot job progress"
   ]
  },
  {
   "cell_type": "code",
   "execution_count": null,
   "id": "detected-cemetery",
   "metadata": {},
   "outputs": [],
   "source": [
    "job_description_response = automl.describe_auto_ml_job(\n",
    "    job_name=auto_ml_job_name)"
   ]
  },
  {
   "cell_type": "code",
   "execution_count": null,
   "id": "fossil-detail",
   "metadata": {},
   "outputs": [],
   "source": [
    "while ('AutoMLJobStatus' not in job_description_response.keys() \n",
    "       and 'AutoMLJobSecondaryStatus' \n",
    "       not in job_description_response.keys()):\n",
    "    job_description_response = automl.describe_auto_ml_job(\n",
    "        job_name=auto_ml_job_name)\n",
    "    print('[INFO] Autopilot job has not yet started. Please wait. ')\n",
    "    # function `json.dumps` encodes JSON string for printing.\n",
    "    print(\n",
    "        json.dumps(job_description_response, \n",
    "                   indent=4, \n",
    "                   sort_keys=True, \n",
    "                   default=str))\n",
    "    print('[INFO] Waiting for Autopilot job to start...')\n",
    "    sleep(15)\n",
    "\n",
    "print('[OK] AutoML job started.')"
   ]
  },
  {
   "cell_type": "code",
   "execution_count": null,
   "id": "civil-myanmar",
   "metadata": {},
   "outputs": [],
   "source": [
    "display(HTML(\n",
    "    f'<b>Review <a target=\"blank\" href=\"https://console.aws.amazon.com/'\n",
    "    f'sagemaker/home?region={region}#/processing-jobs/\">'\n",
    "    f'processing jobs</a></b>'))"
   ]
  },
  {
   "cell_type": "code",
   "execution_count": null,
   "id": "indie-forward",
   "metadata": {},
   "outputs": [],
   "source": [
    "%%time\n",
    "\n",
    "job_status = job_description_response['AutoMLJobStatus']\n",
    "job_sec_status = job_description_response['AutoMLJobSecondaryStatus']\n",
    "\n",
    "if job_status not in ('Stopped', 'Failed'):\n",
    "    while (job_status in ('InProgress') \n",
    "           and job_sec_status in ('Starting', 'AnalyzingData')):\n",
    "        job_description_response = automl.describe_auto_ml_job(\n",
    "            job_name=auto_ml_job_name)\n",
    "        job_status = job_description_response['AutoMLJobStatus']\n",
    "        job_sec_status = job_description_response[\n",
    "            'AutoMLJobSecondaryStatus']\n",
    "        print(job_status, job_sec_status)\n",
    "        time.sleep(15)\n",
    "    print('[OK] Data analysis phase completed.\\n')\n",
    "    \n",
    "print(\n",
    "    json.dumps(\n",
    "        job_description_response, indent=4, sort_keys=True, default=str))"
   ]
  },
  {
   "cell_type": "code",
   "execution_count": null,
   "id": "static-albert",
   "metadata": {},
   "outputs": [],
   "source": [
    "### BEGIN SOLUTION - DO NOT delete this comment for grading purposes\n",
    "# get the information about the running Autopilot job\n",
    "job_description_response = automl.describe_auto_ml_job(\n",
    "    job_name=auto_ml_job_name) # Replace None\n",
    "\n",
    "# keep in the while loop until the Autopilot job artifacts will be \n",
    "# generated\n",
    "# Replace all None\n",
    "while 'AutoMLJobArtifacts' not in job_description_response: \n",
    "    # update the information about the running Autopilot job\n",
    "    job_description_response = automl.describe_auto_ml_job(\n",
    "        job_name=auto_ml_job_name) # Replace None\n",
    "    ### END SOLUTION - DO NOT delete this comment for grading purposes\n",
    "    print('[INFO] Autopilot job has not yet generated the artifacts. \n",
    "          'Please wait. ')\n",
    "    print(\n",
    "        json.dumps(job_description_response, \n",
    "                   indent=4, \n",
    "                   sort_keys=True, \n",
    "                   default=str))\n",
    "    print('[INFO] Waiting for AutoMLJobArtifacts...')\n",
    "    time.sleep(15)\n",
    "\n",
    "print('[OK] AutoMLJobArtifacts generated.')"
   ]
  },
  {
   "cell_type": "code",
   "execution_count": null,
   "id": "iraqi-brunei",
   "metadata": {},
   "outputs": [],
   "source": [
    "### BEGIN SOLUTION - DO NOT delete this comment for grading purposes\n",
    "# get the information about the running Autopilot job\n",
    "job_description_response = automl.describe_auto_ml_job(\n",
    "    job_name=auto_ml_job_name) # Replace None\n",
    "\n",
    "# keep in the while loop until the notebooks will be created\n",
    "# Replace all None\n",
    "while ('DataExplorationNotebookLocation' \n",
    "       not in job_description_response['AutoMLJobArtifacts']): \n",
    "    # update the information about the running Autopilot job\n",
    "    job_description_response = automl.describe_auto_ml_job(\n",
    "        job_name=auto_ml_job_name) # Replace None\n",
    "    ### END SOLUTION - DO NOT delete this comment for grading purposes\n",
    "    print('[INFO] Autopilot job has not yet generated the notebooks. '\n",
    "          'Please wait. ')\n",
    "    print(\n",
    "        json.dumps(job_description_response, \n",
    "                   indent=4, \n",
    "                   sort_keys=True, \n",
    "                   default=str))\n",
    "    print('[INFO] Waiting for DataExplorationNotebookLocation...')\n",
    "    time.sleep(15)\n",
    "\n",
    "print('[OK] DataExplorationNotebookLocation found.')   "
   ]
  },
  {
   "cell_type": "code",
   "execution_count": null,
   "id": "assumed-jacket",
   "metadata": {},
   "outputs": [],
   "source": [
    "generated_resources = (\n",
    "    job_description_response['AutoMLJobArtifacts'][\n",
    "        'DataExplorationNotebookLocation'])\n",
    "download_path = generated_resources.rsplit(\n",
    "    '/notebooks/SageMakerAutopilotDataExplorationNotebook.ipynb'\n",
    ")[0]\n",
    "job_id = download_path.rsplit('/', 1)[-1]\n",
    "\n",
    "if not job_id: \n",
    "    print('No AutoMLJobArtifacts found.')\n",
    "else: \n",
    "    display(HTML(\n",
    "        f'<b>Review <a target=\"blank\" href=\"https://s3.console.aws.amazon'\n",
    "        f'.com/s3/buckets/{bucket}/autopilot/{auto_ml_job_name}/'\n",
    "        f'sagemaker-automl-candidates/{job_id}/\">'\n",
    "        f'generated notebooks</a> in S3 bucket</b>'))"
   ]
  },
  {
   "cell_type": "markdown",
   "id": "realistic-dining",
   "metadata": {},
   "source": [
    "# 5. Feature engineering"
   ]
  },
  {
   "cell_type": "code",
   "execution_count": null,
   "id": "english-rebecca",
   "metadata": {},
   "outputs": [],
   "source": [
    "%%time\n",
    "\n",
    "job_description_response = automl.describe_auto_ml_job(\n",
    "    job_name=auto_ml_job_name)\n",
    "job_status = job_description_response['AutoMLJobStatus']\n",
    "job_sec_status = job_description_response['AutoMLJobSecondaryStatus']\n",
    "print(job_status)\n",
    "print(job_sec_status)\n",
    "\n",
    "if job_status not in ('Stopped', 'Failed'):\n",
    "    ### BEGIN SOLUTION - DO NOT delete this comment for grading purposes\n",
    "    # Replace all None    \n",
    "    while (job_status in ('InProgress') \n",
    "           and job_sec_status in ('FeatureEngineering')): \n",
    "    ### END SOLUTION - DO NOT delete this comment for grading purposes\n",
    "        job_description_response = automl.describe_auto_ml_job(\n",
    "            job_name=auto_ml_job_name)\n",
    "        job_status = job_description_response['AutoMLJobStatus']\n",
    "        job_sec_status = job_description_response[\n",
    "            'AutoMLJobSecondaryStatus']\n",
    "        print(job_status, job_sec_status)\n",
    "        time.sleep(5)\n",
    "    print('[OK] Feature engineering phase completed.\\n')\n",
    "    \n",
    "print(\n",
    "    json.dumps(\n",
    "        job_description_response, indent=4, sort_keys=True, default=str))"
   ]
  },
  {
   "cell_type": "markdown",
   "id": "generous-equality",
   "metadata": {},
   "source": [
    "# 6. Model training and tuning"
   ]
  },
  {
   "cell_type": "code",
   "execution_count": null,
   "id": "impaired-acrylic",
   "metadata": {},
   "outputs": [],
   "source": [
    "display(HTML(\n",
    "    f'<b>Review <a target=\"blank\" href=\"https://console.aws.amazon.com/'\n",
    "    f'sagemaker/home?region={region}#/hyper-tuning-jobs/\">'\n",
    "    f'hyper-parameter tuning jobs</a></b>'))"
   ]
  },
  {
   "cell_type": "code",
   "execution_count": null,
   "id": "international-chinese",
   "metadata": {},
   "outputs": [],
   "source": [
    "%%time\n",
    "\n",
    "job_description_response = automl.describe_auto_ml_job(\n",
    "    job_name=auto_ml_job_name)\n",
    "job_status = job_description_response['AutoMLJobStatus']\n",
    "job_sec_status = job_description_response['AutoMLJobSecondaryStatus']\n",
    "print(job_status)\n",
    "print(job_sec_status)\n",
    "if job_status not in ('Stopped', 'Failed'):\n",
    "    ### BEGIN SOLUTION - DO NOT delete this comment for grading purposes\n",
    "    # Replace all None\n",
    "    while (job_status in ('InProgress') \n",
    "           and job_sec_status in ('ModelTuning')): \n",
    "    ### END SOLUTION - DO NOT delete this comment for grading purposes\n",
    "        job_description_response = automl.describe_auto_ml_job(\n",
    "            job_name=auto_ml_job_name)\n",
    "        job_status = job_description_response['AutoMLJobStatus']\n",
    "        job_sec_status = job_description_response[\n",
    "            'AutoMLJobSecondaryStatus']\n",
    "        print(job_status, job_sec_status)\n",
    "        time.sleep(5)\n",
    "    print('[OK] Model tuning phase completed.\\n')\n",
    "    \n",
    "print(\n",
    "    json.dumps(\n",
    "        job_description_response, indent=4, sort_keys=True, default=str))"
   ]
  },
  {
   "cell_type": "code",
   "execution_count": null,
   "id": "conceptual-peninsula",
   "metadata": {},
   "outputs": [],
   "source": [
    "%%time\n",
    "\n",
    "\n",
    "\n",
    "job_description_response = automl.describe_auto_ml_job(\n",
    "    job_name=auto_ml_job_name)\n",
    "pprint(job_description_response)\n",
    "job_status = job_description_response['AutoMLJobStatus']\n",
    "job_sec_status = job_description_response['AutoMLJobSecondaryStatus']\n",
    "print('Job status:  {}'.format(job_status))\n",
    "print('Secondary job status:  {}'.format(job_sec_status))\n",
    "if job_status not in ('Stopped', 'Failed'):\n",
    "    while job_status not in ('Completed'):\n",
    "        job_description_response = automl.describe_auto_ml_job(\n",
    "            job_name=auto_ml_job_name)\n",
    "        job_status = job_description_response['AutoMLJobStatus']\n",
    "        job_sec_status = job_description_response[\n",
    "            'AutoMLJobSecondaryStatus']\n",
    "        print(f'Job status: {job_status}')\n",
    "        print(f'Secondary job status: {job_sec_status}')\n",
    "        time.sleep(10)\n",
    "    print('[OK] Autopilot job completed.\\n')\n",
    "else:\n",
    "    print(f'Job status: {job_status}')\n",
    "    print(f'Secondary job status: {job_sec_status}')"
   ]
  },
  {
   "cell_type": "code",
   "execution_count": null,
   "id": "soviet-alaska",
   "metadata": {},
   "outputs": [],
   "source": [
    "candidates = automl.list_candidates(\n",
    "    ### BEGIN SOLUTION - DO NOT delete this comment for grading purposes\n",
    "    job_name=auto_ml_job_name, # Replace None\n",
    "    sort_by='FinalObjectiveMetricValue') # Replace None\n",
    "    ### END SOLUTION - DO NOT delete this comment for grading purposes"
   ]
  },
  {
   "cell_type": "code",
   "execution_count": null,
   "id": "artistic-anxiety",
   "metadata": {},
   "outputs": [],
   "source": [
    "while candidates == []:\n",
    "    candidates = automl.list_candidates(job_name=auto_ml_job_name)\n",
    "    print(\n",
    "        '[INFO] Autopilot job is generating the candidates. Please wait.')\n",
    "    time.sleep(10)\n",
    "\n",
    "print('[OK] Candidates generated.') "
   ]
  },
  {
   "cell_type": "code",
   "execution_count": null,
   "id": "essential-information",
   "metadata": {},
   "outputs": [],
   "source": [
    "print(candidates[0].keys())"
   ]
  },
  {
   "cell_type": "code",
   "execution_count": null,
   "id": "intense-transcript",
   "metadata": {},
   "outputs": [],
   "source": [
    "while 'CandidateName' not in candidates[0]:\n",
    "    candidates = automl.list_candidates(job_name=auto_ml_job_name)\n",
    "    print(\n",
    "        '[INFO] Autopilot job is generating CandidateName. Please wait.')\n",
    "    sleep(10)\n",
    "\n",
    "print('[OK] CandidateName generated.')"
   ]
  },
  {
   "cell_type": "code",
   "execution_count": null,
   "id": "south-habitat",
   "metadata": {},
   "outputs": [],
   "source": [
    "while 'FinalAutoMLJobObjectiveMetric' not in candidates[0]:\n",
    "    candidates = automl.list_candidates(job_name=auto_ml_job_name)\n",
    "    print('[INFO] Autopilot job is generating '\n",
    "          'FinalAutoMLJobObjectiveMetric. Please wait.')\n",
    "    sleep(10)\n",
    "\n",
    "print('[OK] FinalAutoMLJobObjectiveMetric generated.')"
   ]
  },
  {
   "cell_type": "code",
   "execution_count": null,
   "id": "electronic-scientist",
   "metadata": {},
   "outputs": [],
   "source": [
    "print(json.dumps(candidates, indent=4, sort_keys=True, default=str))"
   ]
  },
  {
   "cell_type": "code",
   "execution_count": null,
   "id": "sonic-performance",
   "metadata": {},
   "outputs": [],
   "source": [
    "print(\n",
    "    'metric ' \n",
    "    + str(candidates[0]['FinalAutoMLJobObjectiveMetric']['MetricName']))\n",
    "\n",
    "for index, candidate in enumerate(candidates):\n",
    "    print(str(index) \n",
    "          + '  ' \n",
    "          + candidate['CandidateName'] \n",
    "          + '  ' \n",
    "          + str(candidate['FinalAutoMLJobObjectiveMetric']['Value']))"
   ]
  },
  {
   "cell_type": "code",
   "execution_count": null,
   "id": "advisory-forestry",
   "metadata": {},
   "outputs": [],
   "source": [
    "candidates = automl.list_candidates(\n",
    "    job_name=auto_ml_job_name)\n",
    "\n",
    "if candidates != []:\n",
    "    best_candidate = automl.best_candidate(\n",
    "        ### BEGIN SOLUTION - DO NOT delete this comment for grading \n",
    "        # purposes\n",
    "        job_name=auto_ml_job_name) # Replace None\n",
    "        ### END SOLUTION - DO NOT delete this comment for grading purposes\n",
    "    print(\n",
    "        json.dumps(best_candidate, indent=4, sort_keys=True, default=str))"
   ]
  },
  {
   "cell_type": "code",
   "execution_count": null,
   "id": "celtic-mission",
   "metadata": {},
   "outputs": [],
   "source": [
    "while 'CandidateName' not in best_candidate:\n",
    "    best_candidate = automl.best_candidate(job_name=auto_ml_job_name)\n",
    "    print('[INFO] Autopilot Job is generating BestCandidate '\n",
    "          'CandidateName. Please wait.')\n",
    "    print(\n",
    "        json.dumps(best_candidate, indent=4, sort_keys=True, default=str))\n",
    "    sleep(10)\n",
    "\n",
    "print('[OK] BestCandidate CandidateName generated.')  "
   ]
  },
  {
   "cell_type": "code",
   "execution_count": null,
   "id": "fluid-tension",
   "metadata": {},
   "outputs": [],
   "source": [
    "while 'FinalAutoMLJobObjectiveMetric' not in best_candidate:\n",
    "    best_candidate = automl.best_candidate(job_name=auto_ml_job_name)\n",
    "    print('[INFO] Autopilot Job is generating BestCandidate '\n",
    "          'FinalAutoMLJobObjectiveMetric. Please wait.')\n",
    "    print(\n",
    "        json.dumps(best_candidate, indent=4, sort_keys=True, default=str))\n",
    "    sleep(10)\n",
    "\n",
    "print('[OK] BestCandidate FinalAutoMLJobObjectiveMetric generated.')  "
   ]
  },
  {
   "cell_type": "code",
   "execution_count": null,
   "id": "sharp-bundle",
   "metadata": {},
   "outputs": [],
   "source": [
    "best_candidate_identifier = best_candidate['CandidateName']\n",
    "print('Candidate name: ' + best_candidate_identifier)\n",
    "print('Metric name: ' \n",
    "      + best_candidate['FinalAutoMLJobObjectiveMetric']['MetricName'])\n",
    "print('Metric value: ' \n",
    "      + str(best_candidate['FinalAutoMLJobObjectiveMetric']['Value']))"
   ]
  },
  {
   "cell_type": "markdown",
   "id": "experienced-literature",
   "metadata": {},
   "source": [
    "# 7. Review all output in S3 bucket"
   ]
  },
  {
   "cell_type": "code",
   "execution_count": null,
   "id": "promotional-adoption",
   "metadata": {},
   "outputs": [],
   "source": [
    "display(HTML(\n",
    "    f'<b>Review all <a target=\"blank\" href=\"https://s3.console.aws.amazon'\n",
    "    f'.com/s3/buckets/{bucket}?region={region}&prefix=autopilot/'\n",
    "    f'{auto_ml_job_name}/\">output in S3</a></b>'))"
   ]
  },
  {
   "cell_type": "markdown",
   "id": "chubby-dress",
   "metadata": {},
   "source": [
    "# 8. Deploy and test best candidate model"
   ]
  },
  {
   "cell_type": "code",
   "execution_count": null,
   "id": "announced-identification",
   "metadata": {},
   "outputs": [],
   "source": [
    "inference_response_keys = ['predicted_label', 'probability']"
   ]
  },
  {
   "cell_type": "code",
   "execution_count": null,
   "id": "horizontal-architecture",
   "metadata": {},
   "outputs": [],
   "source": [
    "autopilot_model = automl.deploy(\n",
    "    initial_instance_count=1,\n",
    "    instance_type='ml.m5.large',\n",
    "    candidate=best_candidate,\n",
    "    inference_response_keys=inference_response_keys,\n",
    "    predictor_cls=sagemaker.predictor.Predictor,\n",
    "    serializer=sagemaker.serializers.JSONSerializer(),\n",
    "    deserializer=sagemaker.deserializers.JSONDeserializer())\n",
    "\n",
    "print(f'\\nEndpoint name: {autopilot_model.endpoint_name}'"
   ]
  },
  {
   "cell_type": "code",
   "execution_count": null,
   "id": "interior-character",
   "metadata": {},
   "outputs": [],
   "source": [
    "display(HTML(\n",
    "    '<b>Review <a target=\"blank\" href=\"https://console.aws.amazon.com/'\n",
    "    'sagemaker/home?region={region}#/endpoints/'\n",
    "    '{autopilot_model.endpoint_name}\">SageMaker REST endpoint</a></b>'))"
   ]
  },
  {
   "cell_type": "code",
   "execution_count": null,
   "id": "varied-thumb",
   "metadata": {},
   "outputs": [],
   "source": [
    "sm_runtime = boto3.client('sagemaker-runtime')\n",
    "review_list = ['This product is great!',\n",
    "               'OK, but not great.',\n",
    "               'This is not the right product.']\n",
    "\n",
    "for review in review_list:\n",
    "    # remove commas from the review since we're passing the inputs as a \n",
    "    # CSV\n",
    "    review = review.replace(',', '')\n",
    "    response = sm_runtime.invoke_endpoint(\n",
    "        EndpointName=autopilot_model.endpoint_name, # endpoint name\n",
    "        ContentType='text/csv', # type of input data\n",
    "        Accept='text/csv', # type of the inference in the response\n",
    "        Body=review) # review text\n",
    "    response_body = (\n",
    "        response['Body'].read().decode('utf-8').strip().split(','))\n",
    "    print('Review: ', review, ' Predicated class: {response_body[0]}')\n",
    "print('(-1 = Negative, 0=Neutral, 1=Positive)')"
   ]
  },
  {
   "cell_type": "code",
   "execution_count": null,
   "id": "tropical-comedy",
   "metadata": {},
   "outputs": [],
   "source": [
    "!aws s3 cp ./C1_W3_Assignment.ipynb s3://$bucket/C1_W3_Assignment_Learner.ipynb"
   ]
  }
 ],
 "metadata": {
  "kernelspec": {
   "display_name": "Python 3",
   "language": "python",
   "name": "python3"
  },
  "language_info": {
   "codemirror_mode": {
    "name": "ipython",
    "version": 3
   },
   "file_extension": ".py",
   "mimetype": "text/x-python",
   "name": "python",
   "nbconvert_exporter": "python",
   "pygments_lexer": "ipython3",
   "version": "3.8.8"
  }
 },
 "nbformat": 4,
 "nbformat_minor": 5
}
